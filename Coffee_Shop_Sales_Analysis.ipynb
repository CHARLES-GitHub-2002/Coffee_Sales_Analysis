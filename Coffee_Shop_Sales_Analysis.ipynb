{
 "cells": [
  {
   "cell_type": "code",
   "execution_count": 27,
   "id": "9bc5dbe6-5a83-40b4-b641-0f85ddf9d25c",
   "metadata": {},
   "outputs": [],
   "source": [
    "import pandas as pd\n",
    "import numpy as np\n",
    "import matplotlib.pyplot as plt\n",
    "import seaborn as sns"
   ]
  },
  {
   "cell_type": "code",
   "execution_count": 29,
   "id": "d4f96855-c8e2-4ec5-a57f-8308c1cf36c7",
   "metadata": {},
   "outputs": [],
   "source": [
    "#importing the dataset\n",
    "coffee_data=pd.read_csv(r\"C:\\Users\\MUNYUA CHARLES\\Downloads\\Coffee Shop Sales.csv\")"
   ]
  },
  {
   "cell_type": "code",
   "execution_count": 30,
   "id": "fd7d06ad-aca9-4285-9877-9ef7f8feaea4",
   "metadata": {},
   "outputs": [
    {
     "data": {
      "text/html": [
       "<div>\n",
       "<style scoped>\n",
       "    .dataframe tbody tr th:only-of-type {\n",
       "        vertical-align: middle;\n",
       "    }\n",
       "\n",
       "    .dataframe tbody tr th {\n",
       "        vertical-align: top;\n",
       "    }\n",
       "\n",
       "    .dataframe thead th {\n",
       "        text-align: right;\n",
       "    }\n",
       "</style>\n",
       "<table border=\"1\" class=\"dataframe\">\n",
       "  <thead>\n",
       "    <tr style=\"text-align: right;\">\n",
       "      <th></th>\n",
       "      <th>transaction_id</th>\n",
       "      <th>transaction_date</th>\n",
       "      <th>transaction_time</th>\n",
       "      <th>transaction_qty</th>\n",
       "      <th>store_id</th>\n",
       "      <th>store_location</th>\n",
       "      <th>product_id</th>\n",
       "      <th>unit_price</th>\n",
       "      <th>product_category</th>\n",
       "      <th>product_type</th>\n",
       "      <th>product_detail</th>\n",
       "    </tr>\n",
       "  </thead>\n",
       "  <tbody>\n",
       "    <tr>\n",
       "      <th>0</th>\n",
       "      <td>1</td>\n",
       "      <td>01-01-2023</td>\n",
       "      <td>07:06:11</td>\n",
       "      <td>2</td>\n",
       "      <td>5</td>\n",
       "      <td>Lower Manhattan</td>\n",
       "      <td>32</td>\n",
       "      <td>3.0</td>\n",
       "      <td>Coffee</td>\n",
       "      <td>Gourmet brewed coffee</td>\n",
       "      <td>Ethiopia Rg</td>\n",
       "    </tr>\n",
       "    <tr>\n",
       "      <th>1</th>\n",
       "      <td>2</td>\n",
       "      <td>01-01-2023</td>\n",
       "      <td>07:08:56</td>\n",
       "      <td>2</td>\n",
       "      <td>5</td>\n",
       "      <td>Lower Manhattan</td>\n",
       "      <td>57</td>\n",
       "      <td>3.1</td>\n",
       "      <td>Tea</td>\n",
       "      <td>Brewed Chai tea</td>\n",
       "      <td>Spicy Eye Opener Chai Lg</td>\n",
       "    </tr>\n",
       "    <tr>\n",
       "      <th>2</th>\n",
       "      <td>3</td>\n",
       "      <td>01-01-2023</td>\n",
       "      <td>07:14:04</td>\n",
       "      <td>2</td>\n",
       "      <td>5</td>\n",
       "      <td>Lower Manhattan</td>\n",
       "      <td>59</td>\n",
       "      <td>4.5</td>\n",
       "      <td>Drinking Chocolate</td>\n",
       "      <td>Hot chocolate</td>\n",
       "      <td>Dark chocolate Lg</td>\n",
       "    </tr>\n",
       "    <tr>\n",
       "      <th>3</th>\n",
       "      <td>4</td>\n",
       "      <td>01-01-2023</td>\n",
       "      <td>07:20:24</td>\n",
       "      <td>1</td>\n",
       "      <td>5</td>\n",
       "      <td>Lower Manhattan</td>\n",
       "      <td>22</td>\n",
       "      <td>2.0</td>\n",
       "      <td>Coffee</td>\n",
       "      <td>Drip coffee</td>\n",
       "      <td>Our Old Time Diner Blend Sm</td>\n",
       "    </tr>\n",
       "    <tr>\n",
       "      <th>4</th>\n",
       "      <td>5</td>\n",
       "      <td>01-01-2023</td>\n",
       "      <td>07:22:41</td>\n",
       "      <td>2</td>\n",
       "      <td>5</td>\n",
       "      <td>Lower Manhattan</td>\n",
       "      <td>57</td>\n",
       "      <td>3.1</td>\n",
       "      <td>Tea</td>\n",
       "      <td>Brewed Chai tea</td>\n",
       "      <td>Spicy Eye Opener Chai Lg</td>\n",
       "    </tr>\n",
       "  </tbody>\n",
       "</table>\n",
       "</div>"
      ],
      "text/plain": [
       "   transaction_id transaction_date transaction_time  transaction_qty  \\\n",
       "0               1       01-01-2023         07:06:11                2   \n",
       "1               2       01-01-2023         07:08:56                2   \n",
       "2               3       01-01-2023         07:14:04                2   \n",
       "3               4       01-01-2023         07:20:24                1   \n",
       "4               5       01-01-2023         07:22:41                2   \n",
       "\n",
       "   store_id   store_location  product_id  unit_price    product_category  \\\n",
       "0         5  Lower Manhattan          32         3.0              Coffee   \n",
       "1         5  Lower Manhattan          57         3.1                 Tea   \n",
       "2         5  Lower Manhattan          59         4.5  Drinking Chocolate   \n",
       "3         5  Lower Manhattan          22         2.0              Coffee   \n",
       "4         5  Lower Manhattan          57         3.1                 Tea   \n",
       "\n",
       "            product_type               product_detail  \n",
       "0  Gourmet brewed coffee                  Ethiopia Rg  \n",
       "1        Brewed Chai tea     Spicy Eye Opener Chai Lg  \n",
       "2          Hot chocolate            Dark chocolate Lg  \n",
       "3            Drip coffee  Our Old Time Diner Blend Sm  \n",
       "4        Brewed Chai tea     Spicy Eye Opener Chai Lg  "
      ]
     },
     "execution_count": 30,
     "metadata": {},
     "output_type": "execute_result"
    }
   ],
   "source": [
    "coffee_data.head()"
   ]
  },
  {
   "cell_type": "code",
   "execution_count": 31,
   "id": "9f94b10b-e4e8-4a07-a50b-f110709a6606",
   "metadata": {},
   "outputs": [
    {
     "name": "stdout",
     "output_type": "stream",
     "text": [
      "<class 'pandas.core.frame.DataFrame'>\n",
      "RangeIndex: 149116 entries, 0 to 149115\n",
      "Data columns (total 11 columns):\n",
      " #   Column            Non-Null Count   Dtype  \n",
      "---  ------            --------------   -----  \n",
      " 0   transaction_id    149116 non-null  int64  \n",
      " 1   transaction_date  149116 non-null  object \n",
      " 2   transaction_time  149116 non-null  object \n",
      " 3   transaction_qty   149116 non-null  int64  \n",
      " 4   store_id          149116 non-null  int64  \n",
      " 5   store_location    149116 non-null  object \n",
      " 6   product_id        149116 non-null  int64  \n",
      " 7   unit_price        149116 non-null  float64\n",
      " 8   product_category  149116 non-null  object \n",
      " 9   product_type      149116 non-null  object \n",
      " 10  product_detail    149116 non-null  object \n",
      "dtypes: float64(1), int64(4), object(6)\n",
      "memory usage: 12.5+ MB\n"
     ]
    }
   ],
   "source": [
    "# Dataset summary\n",
    "coffee_data.info()"
   ]
  },
  {
   "cell_type": "code",
   "execution_count": 32,
   "id": "973c9253-c5b0-4063-8d85-58f08aa6e02d",
   "metadata": {},
   "outputs": [
    {
     "data": {
      "text/plain": [
       "transaction_id      0\n",
       "transaction_date    0\n",
       "transaction_time    0\n",
       "transaction_qty     0\n",
       "store_id            0\n",
       "store_location      0\n",
       "product_id          0\n",
       "unit_price          0\n",
       "product_category    0\n",
       "product_type        0\n",
       "product_detail      0\n",
       "dtype: int64"
      ]
     },
     "execution_count": 32,
     "metadata": {},
     "output_type": "execute_result"
    }
   ],
   "source": [
    "#cheaking for null values \n",
    "coffee_data.isnull().sum()"
   ]
  },
  {
   "cell_type": "code",
   "execution_count": 35,
   "id": "b95a6ed0-197c-4432-828f-67b764c8d4c7",
   "metadata": {},
   "outputs": [],
   "source": [
    "#Droping \"product_id\" and \"store_id\" columns \n",
    "coffee_data.drop(columns=['store_id','product_id'],inplace=True)"
   ]
  },
  {
   "cell_type": "code",
   "execution_count": 38,
   "id": "b699c343-4b6c-445e-91d9-1b582a68261a",
   "metadata": {},
   "outputs": [
    {
     "data": {
      "text/plain": [
       "Index(['transaction_id', 'transaction_date', 'transaction_time',\n",
       "       'transaction_qty', 'store_location', 'unit_price', 'product_category',\n",
       "       'product_type', 'product_detail'],\n",
       "      dtype='object')"
      ]
     },
     "execution_count": 38,
     "metadata": {},
     "output_type": "execute_result"
    }
   ],
   "source": [
    "coffee_data.columns"
   ]
  },
  {
   "cell_type": "code",
   "execution_count": 41,
   "id": "72ec926f-719c-4584-91dc-bf5cab99e367",
   "metadata": {},
   "outputs": [
    {
     "data": {
      "text/plain": [
       "Index(['transaction_id', 'transaction_date', 'transaction_time',\n",
       "       'transaction_qty', 'store_location', 'unit_price', 'product_category',\n",
       "       'product_type', 'product_detail'],\n",
       "      dtype='object')"
      ]
     },
     "execution_count": 41,
     "metadata": {},
     "output_type": "execute_result"
    }
   ],
   "source": [
    "coffee_data.columns"
   ]
  },
  {
   "cell_type": "code",
   "execution_count": 43,
   "id": "3006c056-9142-4b2a-b46f-d8466fe3c3b9",
   "metadata": {},
   "outputs": [
    {
     "data": {
      "text/plain": [
       "0"
      ]
     },
     "execution_count": 43,
     "metadata": {},
     "output_type": "execute_result"
    }
   ],
   "source": [
    "#Cheaking for duplicate \n",
    "coffee_data.duplicated().sum()"
   ]
  },
  {
   "cell_type": "code",
   "execution_count": 51,
   "id": "6e9c0f1b-db09-4ee3-92f4-9889d21d2c37",
   "metadata": {},
   "outputs": [],
   "source": [
    "#Renaming the columns\n",
    "coffee_data.rename(columns={\n",
    "    'transaction_id':'id',\n",
    "    'transaction_date':'date',\n",
    "    'transaction_time':'time',\n",
    "    'transaction_qty':'quantity',\n",
    "    'store_location':'location',\n",
    "    'unit_price':'price',\n",
    "    'product_category':'category',\n",
    "    'product_type':'product',\n",
    "    'product_detail':'detail'\n",
    "},inplace=True )"
   ]
  },
  {
   "cell_type": "code",
   "execution_count": 53,
   "id": "ee5dbdfc-aaae-4208-9258-8587d2f50a30",
   "metadata": {},
   "outputs": [],
   "source": [
    "#Converting data to datetime\n",
    "coffee_data['date']=pd.to_datetime(coffee_data['date'],dayfirst=True)"
   ]
  },
  {
   "cell_type": "code",
   "execution_count": 57,
   "id": "4312b462-fff8-4ab2-945c-5b207e0eadf2",
   "metadata": {},
   "outputs": [
    {
     "data": {
      "text/plain": [
       "id                   int64\n",
       "date        datetime64[ns]\n",
       "time                object\n",
       "quantity             int64\n",
       "location            object\n",
       "price              float64\n",
       "category            object\n",
       "product             object\n",
       "detail              object\n",
       "dtype: object"
      ]
     },
     "execution_count": 57,
     "metadata": {},
     "output_type": "execute_result"
    }
   ],
   "source": [
    "coffee_data.dtypes"
   ]
  },
  {
   "cell_type": "code",
   "execution_count": 61,
   "id": "7d2268a9-2a65-47d5-8a7c-d57aa29c2c06",
   "metadata": {},
   "outputs": [],
   "source": [
    "#generating a sales column\n",
    "coffee_data['sales']=coffee_data['quantity']*coffee_data['price']"
   ]
  },
  {
   "cell_type": "code",
   "execution_count": 63,
   "id": "34a2d7ec-f518-4866-a749-b7b542c2952c",
   "metadata": {},
   "outputs": [
    {
     "data": {
      "text/html": [
       "<div>\n",
       "<style scoped>\n",
       "    .dataframe tbody tr th:only-of-type {\n",
       "        vertical-align: middle;\n",
       "    }\n",
       "\n",
       "    .dataframe tbody tr th {\n",
       "        vertical-align: top;\n",
       "    }\n",
       "\n",
       "    .dataframe thead th {\n",
       "        text-align: right;\n",
       "    }\n",
       "</style>\n",
       "<table border=\"1\" class=\"dataframe\">\n",
       "  <thead>\n",
       "    <tr style=\"text-align: right;\">\n",
       "      <th></th>\n",
       "      <th>id</th>\n",
       "      <th>date</th>\n",
       "      <th>time</th>\n",
       "      <th>quantity</th>\n",
       "      <th>location</th>\n",
       "      <th>price</th>\n",
       "      <th>category</th>\n",
       "      <th>product</th>\n",
       "      <th>detail</th>\n",
       "      <th>sales</th>\n",
       "    </tr>\n",
       "  </thead>\n",
       "  <tbody>\n",
       "    <tr>\n",
       "      <th>143386</th>\n",
       "      <td>143723</td>\n",
       "      <td>2023-06-25</td>\n",
       "      <td>18:15:14</td>\n",
       "      <td>1</td>\n",
       "      <td>Astoria</td>\n",
       "      <td>3.75</td>\n",
       "      <td>Coffee</td>\n",
       "      <td>Barista Espresso</td>\n",
       "      <td>Latte</td>\n",
       "      <td>3.75</td>\n",
       "    </tr>\n",
       "    <tr>\n",
       "      <th>31546</th>\n",
       "      <td>31603</td>\n",
       "      <td>2023-02-25</td>\n",
       "      <td>09:56:42</td>\n",
       "      <td>1</td>\n",
       "      <td>Lower Manhattan</td>\n",
       "      <td>2.20</td>\n",
       "      <td>Coffee</td>\n",
       "      <td>Organic brewed coffee</td>\n",
       "      <td>Brazilian Sm</td>\n",
       "      <td>2.20</td>\n",
       "    </tr>\n",
       "  </tbody>\n",
       "</table>\n",
       "</div>"
      ],
      "text/plain": [
       "            id       date      time  quantity         location  price  \\\n",
       "143386  143723 2023-06-25  18:15:14         1          Astoria   3.75   \n",
       "31546    31603 2023-02-25  09:56:42         1  Lower Manhattan   2.20   \n",
       "\n",
       "       category                product        detail  sales  \n",
       "143386   Coffee       Barista Espresso         Latte   3.75  \n",
       "31546    Coffee  Organic brewed coffee  Brazilian Sm   2.20  "
      ]
     },
     "execution_count": 63,
     "metadata": {},
     "output_type": "execute_result"
    }
   ],
   "source": [
    "coffee_data.sample(2)"
   ]
  },
  {
   "cell_type": "code",
   "execution_count": 77,
   "id": "c65f6fcd-ac86-4d1a-8533-e9987996aed0",
   "metadata": {},
   "outputs": [],
   "source": [
    "#extracting the month,year and weekday_name in full name from date column\n",
    "coffee_data['month'] = pd.to_datetime(coffee_data['date']).dt.strftime('%B')\n",
    "coffee_data['year'] = pd.to_datetime(coffee_data['date']).dt.strftime('%Y')\n",
    "coffee_data['weekday_name'] = pd.to_datetime(coffee_data['date']).dt.day_name()\n"
   ]
  },
  {
   "cell_type": "code",
   "execution_count": 74,
   "id": "6b7d41d5-25f7-423e-8159-1223b97cb309",
   "metadata": {},
   "outputs": [
    {
     "data": {
      "text/html": [
       "<div>\n",
       "<style scoped>\n",
       "    .dataframe tbody tr th:only-of-type {\n",
       "        vertical-align: middle;\n",
       "    }\n",
       "\n",
       "    .dataframe tbody tr th {\n",
       "        vertical-align: top;\n",
       "    }\n",
       "\n",
       "    .dataframe thead th {\n",
       "        text-align: right;\n",
       "    }\n",
       "</style>\n",
       "<table border=\"1\" class=\"dataframe\">\n",
       "  <thead>\n",
       "    <tr style=\"text-align: right;\">\n",
       "      <th></th>\n",
       "      <th>id</th>\n",
       "      <th>date</th>\n",
       "      <th>time</th>\n",
       "      <th>quantity</th>\n",
       "      <th>location</th>\n",
       "      <th>price</th>\n",
       "      <th>category</th>\n",
       "      <th>product</th>\n",
       "      <th>detail</th>\n",
       "      <th>sales</th>\n",
       "      <th>month</th>\n",
       "      <th>year</th>\n",
       "      <th>weekday_name</th>\n",
       "    </tr>\n",
       "  </thead>\n",
       "  <tbody>\n",
       "    <tr>\n",
       "      <th>5976</th>\n",
       "      <td>6006</td>\n",
       "      <td>2023-01-11</td>\n",
       "      <td>15:34:25</td>\n",
       "      <td>3</td>\n",
       "      <td>Lower Manhattan</td>\n",
       "      <td>0.80</td>\n",
       "      <td>Flavours</td>\n",
       "      <td>Sugar free syrup</td>\n",
       "      <td>Sugar Free Vanilla syrup</td>\n",
       "      <td>2.40</td>\n",
       "      <td>January</td>\n",
       "      <td>2023</td>\n",
       "      <td>Wednesday</td>\n",
       "    </tr>\n",
       "    <tr>\n",
       "      <th>131038</th>\n",
       "      <td>131375</td>\n",
       "      <td>2023-06-15</td>\n",
       "      <td>13:44:13</td>\n",
       "      <td>1</td>\n",
       "      <td>Astoria</td>\n",
       "      <td>3.75</td>\n",
       "      <td>Bakery</td>\n",
       "      <td>Scone</td>\n",
       "      <td>Jumbo Savory Scone</td>\n",
       "      <td>3.75</td>\n",
       "      <td>June</td>\n",
       "      <td>2023</td>\n",
       "      <td>Thursday</td>\n",
       "    </tr>\n",
       "  </tbody>\n",
       "</table>\n",
       "</div>"
      ],
      "text/plain": [
       "            id       date      time  quantity         location  price  \\\n",
       "5976      6006 2023-01-11  15:34:25         3  Lower Manhattan   0.80   \n",
       "131038  131375 2023-06-15  13:44:13         1          Astoria   3.75   \n",
       "\n",
       "        category           product                    detail  sales    month  \\\n",
       "5976    Flavours  Sugar free syrup  Sugar Free Vanilla syrup   2.40  January   \n",
       "131038    Bakery             Scone        Jumbo Savory Scone   3.75     June   \n",
       "\n",
       "        year weekday_name  \n",
       "5976    2023    Wednesday  \n",
       "131038  2023     Thursday  "
      ]
     },
     "execution_count": 74,
     "metadata": {},
     "output_type": "execute_result"
    }
   ],
   "source": [
    "coffee_data.sample(2)"
   ]
  },
  {
   "cell_type": "code",
   "execution_count": 83,
   "id": "50242a6b-c472-42a9-9ab3-f7d975fd233e",
   "metadata": {},
   "outputs": [],
   "source": [
    "#extracting hour from time of the day\n",
    "coffee_data['hour'] = pd.to_datetime(coffee_data['time'], format='%H:%M:%S').dt.hour\n"
   ]
  },
  {
   "cell_type": "code",
   "execution_count": 85,
   "id": "ecb3c37a-6d0f-42d8-83a2-f86b2bcc437c",
   "metadata": {},
   "outputs": [
    {
     "data": {
      "text/html": [
       "<div>\n",
       "<style scoped>\n",
       "    .dataframe tbody tr th:only-of-type {\n",
       "        vertical-align: middle;\n",
       "    }\n",
       "\n",
       "    .dataframe tbody tr th {\n",
       "        vertical-align: top;\n",
       "    }\n",
       "\n",
       "    .dataframe thead th {\n",
       "        text-align: right;\n",
       "    }\n",
       "</style>\n",
       "<table border=\"1\" class=\"dataframe\">\n",
       "  <thead>\n",
       "    <tr style=\"text-align: right;\">\n",
       "      <th></th>\n",
       "      <th>id</th>\n",
       "      <th>date</th>\n",
       "      <th>time</th>\n",
       "      <th>quantity</th>\n",
       "      <th>location</th>\n",
       "      <th>price</th>\n",
       "      <th>category</th>\n",
       "      <th>product</th>\n",
       "      <th>detail</th>\n",
       "      <th>sales</th>\n",
       "      <th>month</th>\n",
       "      <th>year</th>\n",
       "      <th>weekday_name</th>\n",
       "      <th>hour</th>\n",
       "    </tr>\n",
       "  </thead>\n",
       "  <tbody>\n",
       "    <tr>\n",
       "      <th>26915</th>\n",
       "      <td>26972</td>\n",
       "      <td>2023-02-17</td>\n",
       "      <td>11:12:44</td>\n",
       "      <td>2</td>\n",
       "      <td>Astoria</td>\n",
       "      <td>4.25</td>\n",
       "      <td>Coffee</td>\n",
       "      <td>Barista Espresso</td>\n",
       "      <td>Latte Rg</td>\n",
       "      <td>8.5</td>\n",
       "      <td>February</td>\n",
       "      <td>2023</td>\n",
       "      <td>Friday</td>\n",
       "      <td>11</td>\n",
       "    </tr>\n",
       "    <tr>\n",
       "      <th>108222</th>\n",
       "      <td>108476</td>\n",
       "      <td>2023-05-26</td>\n",
       "      <td>12:36:24</td>\n",
       "      <td>2</td>\n",
       "      <td>Astoria</td>\n",
       "      <td>4.25</td>\n",
       "      <td>Coffee</td>\n",
       "      <td>Barista Espresso</td>\n",
       "      <td>Latte Rg</td>\n",
       "      <td>8.5</td>\n",
       "      <td>May</td>\n",
       "      <td>2023</td>\n",
       "      <td>Friday</td>\n",
       "      <td>12</td>\n",
       "    </tr>\n",
       "    <tr>\n",
       "      <th>145647</th>\n",
       "      <td>145984</td>\n",
       "      <td>2023-06-27</td>\n",
       "      <td>15:38:49</td>\n",
       "      <td>1</td>\n",
       "      <td>Astoria</td>\n",
       "      <td>3.00</td>\n",
       "      <td>Coffee</td>\n",
       "      <td>Drip coffee</td>\n",
       "      <td>Our Old Time Diner Blend Lg</td>\n",
       "      <td>3.0</td>\n",
       "      <td>June</td>\n",
       "      <td>2023</td>\n",
       "      <td>Tuesday</td>\n",
       "      <td>15</td>\n",
       "    </tr>\n",
       "  </tbody>\n",
       "</table>\n",
       "</div>"
      ],
      "text/plain": [
       "            id       date      time  quantity location  price category  \\\n",
       "26915    26972 2023-02-17  11:12:44         2  Astoria   4.25   Coffee   \n",
       "108222  108476 2023-05-26  12:36:24         2  Astoria   4.25   Coffee   \n",
       "145647  145984 2023-06-27  15:38:49         1  Astoria   3.00   Coffee   \n",
       "\n",
       "                 product                       detail  sales     month  year  \\\n",
       "26915   Barista Espresso                     Latte Rg    8.5  February  2023   \n",
       "108222  Barista Espresso                     Latte Rg    8.5       May  2023   \n",
       "145647       Drip coffee  Our Old Time Diner Blend Lg    3.0      June  2023   \n",
       "\n",
       "       weekday_name  hour  \n",
       "26915        Friday    11  \n",
       "108222       Friday    12  \n",
       "145647      Tuesday    15  "
      ]
     },
     "execution_count": 85,
     "metadata": {},
     "output_type": "execute_result"
    }
   ],
   "source": [
    "coffee_data.sample(3)"
   ]
  },
  {
   "cell_type": "code",
   "execution_count": 87,
   "id": "e0d8e050-f601-45ae-bfb8-86b8a85b257f",
   "metadata": {},
   "outputs": [],
   "source": [
    "#defining the time of the day \n",
    "def get_time_of_day(hour):\n",
    "    if hour<12:\n",
    "        return 'Morning'\n",
    "    elif 12<=hour <18:\n",
    "        return 'Afternoon'\n",
    "    else:\n",
    "        return 'Evening'"
   ]
  },
  {
   "cell_type": "code",
   "execution_count": 91,
   "id": "927c64a1-d282-45ec-a275-83d952396830",
   "metadata": {},
   "outputs": [],
   "source": [
    "coffee_data['time_of_day']=coffee_data['hour'].apply(get_time_of_day)"
   ]
  },
  {
   "cell_type": "code",
   "execution_count": 95,
   "id": "a4702710-3a8d-4254-9ab2-f11b8fd98b5f",
   "metadata": {},
   "outputs": [
    {
     "data": {
      "text/html": [
       "<div>\n",
       "<style scoped>\n",
       "    .dataframe tbody tr th:only-of-type {\n",
       "        vertical-align: middle;\n",
       "    }\n",
       "\n",
       "    .dataframe tbody tr th {\n",
       "        vertical-align: top;\n",
       "    }\n",
       "\n",
       "    .dataframe thead th {\n",
       "        text-align: right;\n",
       "    }\n",
       "</style>\n",
       "<table border=\"1\" class=\"dataframe\">\n",
       "  <thead>\n",
       "    <tr style=\"text-align: right;\">\n",
       "      <th></th>\n",
       "      <th>id</th>\n",
       "      <th>date</th>\n",
       "      <th>time</th>\n",
       "      <th>quantity</th>\n",
       "      <th>location</th>\n",
       "      <th>price</th>\n",
       "      <th>category</th>\n",
       "      <th>product</th>\n",
       "      <th>detail</th>\n",
       "      <th>sales</th>\n",
       "      <th>month</th>\n",
       "      <th>year</th>\n",
       "      <th>weekday_name</th>\n",
       "      <th>hour</th>\n",
       "      <th>time_of_day</th>\n",
       "    </tr>\n",
       "  </thead>\n",
       "  <tbody>\n",
       "    <tr>\n",
       "      <th>95139</th>\n",
       "      <td>95393</td>\n",
       "      <td>2023-05-14</td>\n",
       "      <td>17:41:00</td>\n",
       "      <td>1</td>\n",
       "      <td>Astoria</td>\n",
       "      <td>23.0</td>\n",
       "      <td>Branded</td>\n",
       "      <td>Housewares</td>\n",
       "      <td>I Need My Bean! Latte cup</td>\n",
       "      <td>23.0</td>\n",
       "      <td>May</td>\n",
       "      <td>2023</td>\n",
       "      <td>Sunday</td>\n",
       "      <td>17</td>\n",
       "      <td>Afternoon</td>\n",
       "    </tr>\n",
       "    <tr>\n",
       "      <th>136249</th>\n",
       "      <td>136586</td>\n",
       "      <td>2023-06-19</td>\n",
       "      <td>16:35:36</td>\n",
       "      <td>1</td>\n",
       "      <td>Lower Manhattan</td>\n",
       "      <td>3.1</td>\n",
       "      <td>Coffee</td>\n",
       "      <td>Premium brewed coffee</td>\n",
       "      <td>Jamaican Coffee River Rg</td>\n",
       "      <td>3.1</td>\n",
       "      <td>June</td>\n",
       "      <td>2023</td>\n",
       "      <td>Monday</td>\n",
       "      <td>16</td>\n",
       "      <td>Afternoon</td>\n",
       "    </tr>\n",
       "    <tr>\n",
       "      <th>86595</th>\n",
       "      <td>86849</td>\n",
       "      <td>2023-05-07</td>\n",
       "      <td>08:18:01</td>\n",
       "      <td>1</td>\n",
       "      <td>Hell's Kitchen</td>\n",
       "      <td>2.5</td>\n",
       "      <td>Tea</td>\n",
       "      <td>Brewed Black tea</td>\n",
       "      <td>Earl Grey Rg</td>\n",
       "      <td>2.5</td>\n",
       "      <td>May</td>\n",
       "      <td>2023</td>\n",
       "      <td>Sunday</td>\n",
       "      <td>8</td>\n",
       "      <td>Morning</td>\n",
       "    </tr>\n",
       "    <tr>\n",
       "      <th>20297</th>\n",
       "      <td>20327</td>\n",
       "      <td>2023-02-06</td>\n",
       "      <td>12:38:11</td>\n",
       "      <td>2</td>\n",
       "      <td>Lower Manhattan</td>\n",
       "      <td>4.5</td>\n",
       "      <td>Drinking Chocolate</td>\n",
       "      <td>Hot chocolate</td>\n",
       "      <td>Dark chocolate Lg</td>\n",
       "      <td>9.0</td>\n",
       "      <td>February</td>\n",
       "      <td>2023</td>\n",
       "      <td>Monday</td>\n",
       "      <td>12</td>\n",
       "      <td>Afternoon</td>\n",
       "    </tr>\n",
       "    <tr>\n",
       "      <th>34326</th>\n",
       "      <td>34383</td>\n",
       "      <td>2023-03-01</td>\n",
       "      <td>19:39:40</td>\n",
       "      <td>1</td>\n",
       "      <td>Astoria</td>\n",
       "      <td>3.0</td>\n",
       "      <td>Tea</td>\n",
       "      <td>Brewed Black tea</td>\n",
       "      <td>English Breakfast Lg</td>\n",
       "      <td>3.0</td>\n",
       "      <td>March</td>\n",
       "      <td>2023</td>\n",
       "      <td>Wednesday</td>\n",
       "      <td>19</td>\n",
       "      <td>Evening</td>\n",
       "    </tr>\n",
       "  </tbody>\n",
       "</table>\n",
       "</div>"
      ],
      "text/plain": [
       "            id       date      time  quantity         location  price  \\\n",
       "95139    95393 2023-05-14  17:41:00         1          Astoria   23.0   \n",
       "136249  136586 2023-06-19  16:35:36         1  Lower Manhattan    3.1   \n",
       "86595    86849 2023-05-07  08:18:01         1   Hell's Kitchen    2.5   \n",
       "20297    20327 2023-02-06  12:38:11         2  Lower Manhattan    4.5   \n",
       "34326    34383 2023-03-01  19:39:40         1          Astoria    3.0   \n",
       "\n",
       "                  category                product                     detail  \\\n",
       "95139              Branded             Housewares  I Need My Bean! Latte cup   \n",
       "136249              Coffee  Premium brewed coffee   Jamaican Coffee River Rg   \n",
       "86595                  Tea       Brewed Black tea               Earl Grey Rg   \n",
       "20297   Drinking Chocolate          Hot chocolate          Dark chocolate Lg   \n",
       "34326                  Tea       Brewed Black tea       English Breakfast Lg   \n",
       "\n",
       "        sales     month  year weekday_name  hour time_of_day  \n",
       "95139    23.0       May  2023       Sunday    17   Afternoon  \n",
       "136249    3.1      June  2023       Monday    16   Afternoon  \n",
       "86595     2.5       May  2023       Sunday     8     Morning  \n",
       "20297     9.0  February  2023       Monday    12   Afternoon  \n",
       "34326     3.0     March  2023    Wednesday    19     Evening  "
      ]
     },
     "execution_count": 95,
     "metadata": {},
     "output_type": "execute_result"
    }
   ],
   "source": [
    "coffee_data.sample(5)"
   ]
  },
  {
   "cell_type": "code",
   "execution_count": 97,
   "id": "5e3056c9-d4f7-42c3-9dc4-ee9b3d0007be",
   "metadata": {},
   "outputs": [],
   "source": [
    "coffee_data.to_csv('cleaned_coffe_data.csv')"
   ]
  },
  {
   "cell_type": "markdown",
   "id": "d86cb016-d3a5-436a-9ec1-4e231378f01b",
   "metadata": {},
   "source": [
    "### EDA AND METRICS"
   ]
  },
  {
   "cell_type": "code",
   "execution_count": 106,
   "id": "8062759b-cddb-480a-8257-dd28ca3a66c5",
   "metadata": {},
   "outputs": [],
   "source": [
    "palette=sns.set_palette(sns.color_palette('Blues'))"
   ]
  },
  {
   "cell_type": "markdown",
   "id": "0b852a65-b2d6-4c39-8214-21fafeab74dc",
   "metadata": {},
   "source": [
    "### 0.1 Total Revenue"
   ]
  },
  {
   "cell_type": "code",
   "execution_count": 114,
   "id": "b54f0c8d-327e-4c19-8107-4c78cd2cbfb3",
   "metadata": {},
   "outputs": [
    {
     "data": {
      "text/plain": [
       "'Total revenue: $698,812.33'"
      ]
     },
     "execution_count": 114,
     "metadata": {},
     "output_type": "execute_result"
    }
   ],
   "source": [
    "total_revenue =coffee_data['sales'].sum()\n",
    "(f\"Total revenue: ${total_revenue:,.2f}\")"
   ]
  },
  {
   "cell_type": "markdown",
   "id": "9e453511-8e1a-4b11-8dd0-f3e28cdd1189",
   "metadata": {},
   "source": [
    "### 0.2 Total Orders"
   ]
  },
  {
   "cell_type": "code",
   "execution_count": 127,
   "id": "9ccd6fcd-b4a1-4849-9cd5-f01d276596a7",
   "metadata": {},
   "outputs": [
    {
     "data": {
      "text/plain": [
       "'Total Order: 149,116.00'"
      ]
     },
     "execution_count": 127,
     "metadata": {},
     "output_type": "execute_result"
    }
   ],
   "source": [
    "total_orders = coffee_data['id'].nunique()\n",
    "(f'Total Order: {total_orders:,.2f}')"
   ]
  },
  {
   "cell_type": "markdown",
   "id": "f9a32ba8-f885-47bf-8f54-67a83382eaaf",
   "metadata": {},
   "source": [
    "### 0.3 Average Order Value(AOV)"
   ]
  },
  {
   "cell_type": "code",
   "execution_count": 134,
   "id": "9529bc81-e6fa-4b04-a600-7ff5df634c0e",
   "metadata": {},
   "outputs": [
    {
     "data": {
      "text/plain": [
       "'Average order value:4.69'"
      ]
     },
     "execution_count": 134,
     "metadata": {},
     "output_type": "execute_result"
    }
   ],
   "source": [
    "aov =total_revenue/total_orders\n",
    "(f'Average order value:{aov:,.2f}')"
   ]
  },
  {
   "cell_type": "markdown",
   "id": "8a22c45a-01d3-4494-9a46-2ceee17e456b",
   "metadata": {},
   "source": [
    "### 0.4 Peak sales location and Revenue"
   ]
  },
  {
   "cell_type": "code",
   "execution_count": 145,
   "id": "12cefd28-93bd-4efb-bb6f-da8350ebb33e",
   "metadata": {},
   "outputs": [
    {
     "data": {
      "text/plain": [
       "location\n",
       "Astoria            232243.91\n",
       "Hell's Kitchen     236511.17\n",
       "Lower Manhattan    230057.25\n",
       "Name: sales, dtype: float64"
      ]
     },
     "execution_count": 145,
     "metadata": {},
     "output_type": "execute_result"
    }
   ],
   "source": [
    "peak_sales_location=coffee_data.groupby('location')['sales'].sum()\n",
    "peak_sales_location"
   ]
  },
  {
   "cell_type": "code",
   "execution_count": 151,
   "id": "cc14cdf0-e5dc-42bf-a155-793e01839d36",
   "metadata": {},
   "outputs": [
    {
     "data": {
      "text/plain": [
       "\"Peak sales location:  Hell's Kitchen\""
      ]
     },
     "execution_count": 151,
     "metadata": {},
     "output_type": "execute_result"
    }
   ],
   "source": [
    "peak_sales_location=coffee_data.groupby('location')['sales'].sum().idxmax()\n",
    "(f\"Peak sales location:  {peak_sales_location}\")"
   ]
  },
  {
   "cell_type": "markdown",
   "id": "944d664f-2d7a-47ba-b75a-2f0b427fd547",
   "metadata": {},
   "source": [
    "### 0.5 Sales by month"
   ]
  },
  {
   "cell_type": "code",
   "execution_count": 166,
   "id": "99a2723b-a742-4104-9adf-6dbeb9c1b65d",
   "metadata": {},
   "outputs": [
    {
     "data": {
      "text/html": [
       "<div>\n",
       "<style scoped>\n",
       "    .dataframe tbody tr th:only-of-type {\n",
       "        vertical-align: middle;\n",
       "    }\n",
       "\n",
       "    .dataframe tbody tr th {\n",
       "        vertical-align: top;\n",
       "    }\n",
       "\n",
       "    .dataframe thead th {\n",
       "        text-align: right;\n",
       "    }\n",
       "</style>\n",
       "<table border=\"1\" class=\"dataframe\">\n",
       "  <thead>\n",
       "    <tr style=\"text-align: right;\">\n",
       "      <th></th>\n",
       "      <th>month</th>\n",
       "      <th>sales</th>\n",
       "    </tr>\n",
       "  </thead>\n",
       "  <tbody>\n",
       "    <tr>\n",
       "      <th>0</th>\n",
       "      <td>April</td>\n",
       "      <td>118941.08</td>\n",
       "    </tr>\n",
       "    <tr>\n",
       "      <th>1</th>\n",
       "      <td>February</td>\n",
       "      <td>76145.19</td>\n",
       "    </tr>\n",
       "    <tr>\n",
       "      <th>2</th>\n",
       "      <td>January</td>\n",
       "      <td>81677.74</td>\n",
       "    </tr>\n",
       "    <tr>\n",
       "      <th>3</th>\n",
       "      <td>June</td>\n",
       "      <td>166485.88</td>\n",
       "    </tr>\n",
       "    <tr>\n",
       "      <th>4</th>\n",
       "      <td>March</td>\n",
       "      <td>98834.68</td>\n",
       "    </tr>\n",
       "    <tr>\n",
       "      <th>5</th>\n",
       "      <td>May</td>\n",
       "      <td>156727.76</td>\n",
       "    </tr>\n",
       "  </tbody>\n",
       "</table>\n",
       "</div>"
      ],
      "text/plain": [
       "      month      sales\n",
       "0     April  118941.08\n",
       "1  February   76145.19\n",
       "2   January   81677.74\n",
       "3      June  166485.88\n",
       "4     March   98834.68\n",
       "5       May  156727.76"
      ]
     },
     "execution_count": 166,
     "metadata": {},
     "output_type": "execute_result"
    }
   ],
   "source": [
    "# sum of sales for each month\n",
    "revenue=coffee_data.groupby('month')['sales'].sum().reset_index()\n",
    "revenue "
   ]
  },
  {
   "cell_type": "code",
   "execution_count": 174,
   "id": "e49741c1-47a6-44c6-9807-ba417805c653",
   "metadata": {},
   "outputs": [
    {
     "data": {
      "image/png": "[encoded data removed]",
      "text/plain": [
       "<Figure size 1000x800 with 1 Axes>"
      ]
     },
     "metadata": {},
     "output_type": "display_data"
    }
   ],
   "source": [
    "plt.figure(figsize=(10,8))\n",
    "month_order=['January','February','March','April','May','June']\n",
    "sns.barplot(data=revenue,\n",
    "           x='month',\n",
    "           y='sales',\n",
    "           hue='month',\n",
    "           order=month_order,\n",
    "           errorbar=None)\n",
    "plt.title('sales by Month',fontsize=20)\n",
    "plt.xlabel('Month')\n",
    "plt.ylabel('Sales')\n",
    "plt.show()"
   ]
  },
  {
   "cell_type": "markdown",
   "id": "c5124ff9-409d-48f5-a188-b925aa02d48c",
   "metadata": {},
   "source": [
    "### 0.6 Sales by Location "
   ]
  },
  {
   "cell_type": "code",
   "execution_count": 177,
   "id": "bb089c96-db89-4201-88d9-c1559b99853c",
   "metadata": {},
   "outputs": [
    {
     "data": {
      "text/html": [
       "<div>\n",
       "<style scoped>\n",
       "    .dataframe tbody tr th:only-of-type {\n",
       "        vertical-align: middle;\n",
       "    }\n",
       "\n",
       "    .dataframe tbody tr th {\n",
       "        vertical-align: top;\n",
       "    }\n",
       "\n",
       "    .dataframe thead th {\n",
       "        text-align: right;\n",
       "    }\n",
       "</style>\n",
       "<table border=\"1\" class=\"dataframe\">\n",
       "  <thead>\n",
       "    <tr style=\"text-align: right;\">\n",
       "      <th></th>\n",
       "      <th>location</th>\n",
       "      <th>sales</th>\n",
       "    </tr>\n",
       "  </thead>\n",
       "  <tbody>\n",
       "    <tr>\n",
       "      <th>0</th>\n",
       "      <td>Astoria</td>\n",
       "      <td>232243.91</td>\n",
       "    </tr>\n",
       "    <tr>\n",
       "      <th>1</th>\n",
       "      <td>Hell's Kitchen</td>\n",
       "      <td>236511.17</td>\n",
       "    </tr>\n",
       "    <tr>\n",
       "      <th>2</th>\n",
       "      <td>Lower Manhattan</td>\n",
       "      <td>230057.25</td>\n",
       "    </tr>\n",
       "  </tbody>\n",
       "</table>\n",
       "</div>"
      ],
      "text/plain": [
       "          location      sales\n",
       "0          Astoria  232243.91\n",
       "1   Hell's Kitchen  236511.17\n",
       "2  Lower Manhattan  230057.25"
      ]
     },
     "execution_count": 177,
     "metadata": {},
     "output_type": "execute_result"
    }
   ],
   "source": [
    "#sum of  sales by location \n",
    "location_revenue=coffee_data.groupby('location')['sales'].sum().reset_index()\n",
    "location_revenue"
   ]
  },
  {
   "cell_type": "code",
   "execution_count": 208,
   "id": "6f2a6d64-e3df-4a54-b2f6-1a1e708411f8",
   "metadata": {},
   "outputs": [
    {
     "data": {
      "image/png": "[encoded data removed]",
      "text/plain": [
       "<Figure size 1000x800 with 1 Axes>"
      ]
     },
     "metadata": {},
     "output_type": "display_data"
    }
   ],
   "source": [
    "plt.figure(figsize=(10,8))\n",
    "sns.barplot(data=location_revenue,\n",
    "           x='location',\n",
    "           y='sales',\n",
    "           hue='location',\n",
    "           errorbar=None)\n",
    "plt.title('sales by Location',fontsize=20)\n",
    "plt.xlabel('Location')\n",
    "plt.ylabel('Sales')\n",
    "plt.show()"
   ]
  },
  {
   "cell_type": "markdown",
   "id": "1aeca52a-d7b1-4740-8304-0f695a4b2d3d",
   "metadata": {},
   "source": [
    "### 0.7 Top 10 Popular products by Revenue"
   ]
  },
  {
   "cell_type": "code",
   "execution_count": 184,
   "id": "daffac13-7fb9-48bc-80a3-7fda005c3328",
   "metadata": {},
   "outputs": [
    {
     "data": {
      "text/html": [
       "<div>\n",
       "<style scoped>\n",
       "    .dataframe tbody tr th:only-of-type {\n",
       "        vertical-align: middle;\n",
       "    }\n",
       "\n",
       "    .dataframe tbody tr th {\n",
       "        vertical-align: top;\n",
       "    }\n",
       "\n",
       "    .dataframe thead th {\n",
       "        text-align: right;\n",
       "    }\n",
       "</style>\n",
       "<table border=\"1\" class=\"dataframe\">\n",
       "  <thead>\n",
       "    <tr style=\"text-align: right;\">\n",
       "      <th></th>\n",
       "      <th>product</th>\n",
       "      <th>sales</th>\n",
       "    </tr>\n",
       "  </thead>\n",
       "  <tbody>\n",
       "    <tr>\n",
       "      <th>0</th>\n",
       "      <td>Barista Espresso</td>\n",
       "      <td>91406.20</td>\n",
       "    </tr>\n",
       "    <tr>\n",
       "      <th>1</th>\n",
       "      <td>Biscotti</td>\n",
       "      <td>19793.53</td>\n",
       "    </tr>\n",
       "    <tr>\n",
       "      <th>2</th>\n",
       "      <td>Black tea</td>\n",
       "      <td>2711.85</td>\n",
       "    </tr>\n",
       "    <tr>\n",
       "      <th>3</th>\n",
       "      <td>Brewed Black tea</td>\n",
       "      <td>47932.00</td>\n",
       "    </tr>\n",
       "    <tr>\n",
       "      <th>4</th>\n",
       "      <td>Brewed Chai tea</td>\n",
       "      <td>77081.95</td>\n",
       "    </tr>\n",
       "    <tr>\n",
       "      <th>5</th>\n",
       "      <td>Brewed Green tea</td>\n",
       "      <td>23852.50</td>\n",
       "    </tr>\n",
       "    <tr>\n",
       "      <th>6</th>\n",
       "      <td>Brewed herbal tea</td>\n",
       "      <td>47539.50</td>\n",
       "    </tr>\n",
       "    <tr>\n",
       "      <th>7</th>\n",
       "      <td>Chai tea</td>\n",
       "      <td>4301.25</td>\n",
       "    </tr>\n",
       "    <tr>\n",
       "      <th>8</th>\n",
       "      <td>Clothing</td>\n",
       "      <td>6163.00</td>\n",
       "    </tr>\n",
       "    <tr>\n",
       "      <th>9</th>\n",
       "      <td>Drinking Chocolate</td>\n",
       "      <td>2728.04</td>\n",
       "    </tr>\n",
       "    <tr>\n",
       "      <th>10</th>\n",
       "      <td>Drip coffee</td>\n",
       "      <td>31984.00</td>\n",
       "    </tr>\n",
       "    <tr>\n",
       "      <th>11</th>\n",
       "      <td>Espresso Beans</td>\n",
       "      <td>5560.25</td>\n",
       "    </tr>\n",
       "    <tr>\n",
       "      <th>12</th>\n",
       "      <td>Gourmet Beans</td>\n",
       "      <td>6798.00</td>\n",
       "    </tr>\n",
       "    <tr>\n",
       "      <th>13</th>\n",
       "      <td>Gourmet brewed coffee</td>\n",
       "      <td>70034.60</td>\n",
       "    </tr>\n",
       "    <tr>\n",
       "      <th>14</th>\n",
       "      <td>Green beans</td>\n",
       "      <td>1340.00</td>\n",
       "    </tr>\n",
       "    <tr>\n",
       "      <th>15</th>\n",
       "      <td>Green tea</td>\n",
       "      <td>1470.75</td>\n",
       "    </tr>\n",
       "    <tr>\n",
       "      <th>16</th>\n",
       "      <td>Herbal tea</td>\n",
       "      <td>2729.75</td>\n",
       "    </tr>\n",
       "    <tr>\n",
       "      <th>17</th>\n",
       "      <td>Hot chocolate</td>\n",
       "      <td>72416.00</td>\n",
       "    </tr>\n",
       "    <tr>\n",
       "      <th>18</th>\n",
       "      <td>House blend Beans</td>\n",
       "      <td>3294.00</td>\n",
       "    </tr>\n",
       "    <tr>\n",
       "      <th>19</th>\n",
       "      <td>Housewares</td>\n",
       "      <td>7444.00</td>\n",
       "    </tr>\n",
       "    <tr>\n",
       "      <th>20</th>\n",
       "      <td>Organic Beans</td>\n",
       "      <td>8509.50</td>\n",
       "    </tr>\n",
       "    <tr>\n",
       "      <th>21</th>\n",
       "      <td>Organic Chocolate</td>\n",
       "      <td>1679.60</td>\n",
       "    </tr>\n",
       "    <tr>\n",
       "      <th>22</th>\n",
       "      <td>Organic brewed coffee</td>\n",
       "      <td>37746.50</td>\n",
       "    </tr>\n",
       "    <tr>\n",
       "      <th>23</th>\n",
       "      <td>Pastry</td>\n",
       "      <td>25655.99</td>\n",
       "    </tr>\n",
       "    <tr>\n",
       "      <th>24</th>\n",
       "      <td>Premium Beans</td>\n",
       "      <td>14583.50</td>\n",
       "    </tr>\n",
       "    <tr>\n",
       "      <th>25</th>\n",
       "      <td>Premium brewed coffee</td>\n",
       "      <td>38781.15</td>\n",
       "    </tr>\n",
       "    <tr>\n",
       "      <th>26</th>\n",
       "      <td>Regular syrup</td>\n",
       "      <td>6084.80</td>\n",
       "    </tr>\n",
       "    <tr>\n",
       "      <th>27</th>\n",
       "      <td>Scone</td>\n",
       "      <td>36866.12</td>\n",
       "    </tr>\n",
       "    <tr>\n",
       "      <th>28</th>\n",
       "      <td>Sugar free syrup</td>\n",
       "      <td>2324.00</td>\n",
       "    </tr>\n",
       "  </tbody>\n",
       "</table>\n",
       "</div>"
      ],
      "text/plain": [
       "                  product     sales\n",
       "0        Barista Espresso  91406.20\n",
       "1                Biscotti  19793.53\n",
       "2               Black tea   2711.85\n",
       "3        Brewed Black tea  47932.00\n",
       "4         Brewed Chai tea  77081.95\n",
       "5        Brewed Green tea  23852.50\n",
       "6       Brewed herbal tea  47539.50\n",
       "7                Chai tea   4301.25\n",
       "8                Clothing   6163.00\n",
       "9      Drinking Chocolate   2728.04\n",
       "10            Drip coffee  31984.00\n",
       "11         Espresso Beans   5560.25\n",
       "12          Gourmet Beans   6798.00\n",
       "13  Gourmet brewed coffee  70034.60\n",
       "14            Green beans   1340.00\n",
       "15              Green tea   1470.75\n",
       "16             Herbal tea   2729.75\n",
       "17          Hot chocolate  72416.00\n",
       "18      House blend Beans   3294.00\n",
       "19             Housewares   7444.00\n",
       "20          Organic Beans   8509.50\n",
       "21      Organic Chocolate   1679.60\n",
       "22  Organic brewed coffee  37746.50\n",
       "23                 Pastry  25655.99\n",
       "24          Premium Beans  14583.50\n",
       "25  Premium brewed coffee  38781.15\n",
       "26          Regular syrup   6084.80\n",
       "27                  Scone  36866.12\n",
       "28       Sugar free syrup   2324.00"
      ]
     },
     "execution_count": 184,
     "metadata": {},
     "output_type": "execute_result"
    }
   ],
   "source": [
    "product_revenue=coffee_data.groupby('product')['sales'].sum().reset_index()\n",
    "product_revenue"
   ]
  },
  {
   "cell_type": "code",
   "execution_count": 199,
   "id": "c568fe0d-f2cd-4352-b056-be6c9dbe4b7c",
   "metadata": {},
   "outputs": [
    {
     "data": {
      "image/png": "[encoded data removed]",
      "text/plain": [
       "<Figure size 1000x800 with 1 Axes>"
      ]
     },
     "metadata": {},
     "output_type": "display_data"
    }
   ],
   "source": [
    "plt.figure(figsize=(10,8))\n",
    "sns.barplot(data=product_revenue.sort_values('sales',ascending=False)[0:10],\n",
    "           x='product',\n",
    "           y='sales',\n",
    "           hue='product',\n",
    "           errorbar=None)\n",
    "plt.title('Top 10 Popular product by revenue',fontsize=20)\n",
    "plt.xlabel('Product')\n",
    "plt.ylabel('Sales')\n",
    "plt.xticks(rotation=90)\n",
    "plt.show()"
   ]
  },
  {
   "cell_type": "markdown",
   "id": "6b330bce-acbd-40cb-bff3-12af86f59df2",
   "metadata": {},
   "source": [
    "### 0.8 Average Order value (AOV) by Product Category"
   ]
  },
  {
   "cell_type": "code",
   "execution_count": 202,
   "id": "4396072a-f63e-4b76-befb-b0d2673f08aa",
   "metadata": {},
   "outputs": [
    {
     "data": {
      "text/html": [
       "<div>\n",
       "<style scoped>\n",
       "    .dataframe tbody tr th:only-of-type {\n",
       "        vertical-align: middle;\n",
       "    }\n",
       "\n",
       "    .dataframe tbody tr th {\n",
       "        vertical-align: top;\n",
       "    }\n",
       "\n",
       "    .dataframe thead th {\n",
       "        text-align: right;\n",
       "    }\n",
       "</style>\n",
       "<table border=\"1\" class=\"dataframe\">\n",
       "  <thead>\n",
       "    <tr style=\"text-align: right;\">\n",
       "      <th></th>\n",
       "      <th>category</th>\n",
       "      <th>sales</th>\n",
       "    </tr>\n",
       "  </thead>\n",
       "  <tbody>\n",
       "    <tr>\n",
       "      <th>0</th>\n",
       "      <td>Bakery</td>\n",
       "      <td>3.610969</td>\n",
       "    </tr>\n",
       "    <tr>\n",
       "      <th>1</th>\n",
       "      <td>Branded</td>\n",
       "      <td>18.215529</td>\n",
       "    </tr>\n",
       "    <tr>\n",
       "      <th>2</th>\n",
       "      <td>Coffee</td>\n",
       "      <td>4.621207</td>\n",
       "    </tr>\n",
       "    <tr>\n",
       "      <th>3</th>\n",
       "      <td>Coffee beans</td>\n",
       "      <td>22.866657</td>\n",
       "    </tr>\n",
       "    <tr>\n",
       "      <th>4</th>\n",
       "      <td>Drinking Chocolate</td>\n",
       "      <td>6.314615</td>\n",
       "    </tr>\n",
       "    <tr>\n",
       "      <th>5</th>\n",
       "      <td>Flavours</td>\n",
       "      <td>1.238409</td>\n",
       "    </tr>\n",
       "    <tr>\n",
       "      <th>6</th>\n",
       "      <td>Loose Tea</td>\n",
       "      <td>9.267438</td>\n",
       "    </tr>\n",
       "    <tr>\n",
       "      <th>7</th>\n",
       "      <td>Packaged Chocolate</td>\n",
       "      <td>9.050595</td>\n",
       "    </tr>\n",
       "    <tr>\n",
       "      <th>8</th>\n",
       "      <td>Tea</td>\n",
       "      <td>4.321458</td>\n",
       "    </tr>\n",
       "  </tbody>\n",
       "</table>\n",
       "</div>"
      ],
      "text/plain": [
       "             category      sales\n",
       "0              Bakery   3.610969\n",
       "1             Branded  18.215529\n",
       "2              Coffee   4.621207\n",
       "3        Coffee beans  22.866657\n",
       "4  Drinking Chocolate   6.314615\n",
       "5            Flavours   1.238409\n",
       "6           Loose Tea   9.267438\n",
       "7  Packaged Chocolate   9.050595\n",
       "8                 Tea   4.321458"
      ]
     },
     "execution_count": 202,
     "metadata": {},
     "output_type": "execute_result"
    }
   ],
   "source": [
    "category_aov=coffee_data.groupby('category')['sales'].mean().reset_index()\n",
    "category_aov"
   ]
  },
  {
   "cell_type": "code",
   "execution_count": 206,
   "id": "fe6a895a-2a11-4d67-859f-149b1dee7159",
   "metadata": {},
   "outputs": [
    {
     "data": {
      "image/png": "[encoded data removed]",
      "text/plain": [
       "<Figure size 1000x800 with 1 Axes>"
      ]
     },
     "metadata": {},
     "output_type": "display_data"
    }
   ],
   "source": [
    "plt.figure(figsize=(10,8))\n",
    "sns.barplot(data=category_aov.sort_values('sales',ascending=False),\n",
    "           x='sales',\n",
    "           y='category',\n",
    "           hue='category',\n",
    "           errorbar=None)\n",
    "plt.title('Average Order by Category',fontsize=20)\n",
    "plt.xlabel('sales')\n",
    "plt.ylabel('Category')\n",
    "plt.show()"
   ]
  },
  {
   "cell_type": "markdown",
   "id": "284e5b28-4221-4d07-8449-9f0f2c3e90b7",
   "metadata": {},
   "source": [
    "### 0.9 Popular Category"
   ]
  },
  {
   "cell_type": "code",
   "execution_count": 211,
   "id": "418cd705-f47a-4f8f-a625-2750ff07799e",
   "metadata": {},
   "outputs": [
    {
     "data": {
      "text/html": [
       "<div>\n",
       "<style scoped>\n",
       "    .dataframe tbody tr th:only-of-type {\n",
       "        vertical-align: middle;\n",
       "    }\n",
       "\n",
       "    .dataframe tbody tr th {\n",
       "        vertical-align: top;\n",
       "    }\n",
       "\n",
       "    .dataframe thead th {\n",
       "        text-align: right;\n",
       "    }\n",
       "</style>\n",
       "<table border=\"1\" class=\"dataframe\">\n",
       "  <thead>\n",
       "    <tr style=\"text-align: right;\">\n",
       "      <th></th>\n",
       "      <th>category</th>\n",
       "      <th>count</th>\n",
       "    </tr>\n",
       "  </thead>\n",
       "  <tbody>\n",
       "    <tr>\n",
       "      <th>0</th>\n",
       "      <td>Coffee</td>\n",
       "      <td>58416</td>\n",
       "    </tr>\n",
       "    <tr>\n",
       "      <th>1</th>\n",
       "      <td>Tea</td>\n",
       "      <td>45449</td>\n",
       "    </tr>\n",
       "    <tr>\n",
       "      <th>2</th>\n",
       "      <td>Bakery</td>\n",
       "      <td>22796</td>\n",
       "    </tr>\n",
       "    <tr>\n",
       "      <th>3</th>\n",
       "      <td>Drinking Chocolate</td>\n",
       "      <td>11468</td>\n",
       "    </tr>\n",
       "    <tr>\n",
       "      <th>4</th>\n",
       "      <td>Flavours</td>\n",
       "      <td>6790</td>\n",
       "    </tr>\n",
       "    <tr>\n",
       "      <th>5</th>\n",
       "      <td>Coffee beans</td>\n",
       "      <td>1753</td>\n",
       "    </tr>\n",
       "    <tr>\n",
       "      <th>6</th>\n",
       "      <td>Loose Tea</td>\n",
       "      <td>1210</td>\n",
       "    </tr>\n",
       "    <tr>\n",
       "      <th>7</th>\n",
       "      <td>Branded</td>\n",
       "      <td>747</td>\n",
       "    </tr>\n",
       "    <tr>\n",
       "      <th>8</th>\n",
       "      <td>Packaged Chocolate</td>\n",
       "      <td>487</td>\n",
       "    </tr>\n",
       "  </tbody>\n",
       "</table>\n",
       "</div>"
      ],
      "text/plain": [
       "             category  count\n",
       "0              Coffee  58416\n",
       "1                 Tea  45449\n",
       "2              Bakery  22796\n",
       "3  Drinking Chocolate  11468\n",
       "4            Flavours   6790\n",
       "5        Coffee beans   1753\n",
       "6           Loose Tea   1210\n",
       "7             Branded    747\n",
       "8  Packaged Chocolate    487"
      ]
     },
     "execution_count": 211,
     "metadata": {},
     "output_type": "execute_result"
    }
   ],
   "source": [
    "category_count=coffee_data['category'].value_counts().reset_index()\n",
    "category_count"
   ]
  },
  {
   "cell_type": "code",
   "execution_count": 213,
   "id": "8c9f38e3-a8ee-4a21-ab04-8a1a6043ac41",
   "metadata": {},
   "outputs": [
    {
     "data": {
      "image/png": "[encoded data removed]",
      "text/plain": [
       "<Figure size 1000x800 with 1 Axes>"
      ]
     },
     "metadata": {},
     "output_type": "display_data"
    }
   ],
   "source": [
    "plt.figure(figsize=(10,8))\n",
    "sns.barplot(data=category_count,\n",
    "           x='count',\n",
    "           y='category',\n",
    "           hue='category',\n",
    "           errorbar=None)\n",
    "plt.title('Popular Category',fontsize=20)\n",
    "plt.xlabel('Count of Category')\n",
    "plt.ylabel('Category')\n",
    "plt.show()"
   ]
  },
  {
   "cell_type": "markdown",
   "id": "4a0d4170-297e-4758-9979-de2a496f118f",
   "metadata": {},
   "source": [
    "### 0.10 Peak Hour"
   ]
  },
  {
   "cell_type": "code",
   "execution_count": 216,
   "id": "192b8b00-3d28-4bc9-b2be-6d9dc51103eb",
   "metadata": {},
   "outputs": [
    {
     "data": {
      "text/html": [
       "<div>\n",
       "<style scoped>\n",
       "    .dataframe tbody tr th:only-of-type {\n",
       "        vertical-align: middle;\n",
       "    }\n",
       "\n",
       "    .dataframe tbody tr th {\n",
       "        vertical-align: top;\n",
       "    }\n",
       "\n",
       "    .dataframe thead th {\n",
       "        text-align: right;\n",
       "    }\n",
       "</style>\n",
       "<table border=\"1\" class=\"dataframe\">\n",
       "  <thead>\n",
       "    <tr style=\"text-align: right;\">\n",
       "      <th></th>\n",
       "      <th>hour</th>\n",
       "      <th>id</th>\n",
       "    </tr>\n",
       "  </thead>\n",
       "  <tbody>\n",
       "    <tr>\n",
       "      <th>0</th>\n",
       "      <td>6</td>\n",
       "      <td>4594</td>\n",
       "    </tr>\n",
       "    <tr>\n",
       "      <th>1</th>\n",
       "      <td>7</td>\n",
       "      <td>13428</td>\n",
       "    </tr>\n",
       "    <tr>\n",
       "      <th>2</th>\n",
       "      <td>8</td>\n",
       "      <td>17654</td>\n",
       "    </tr>\n",
       "    <tr>\n",
       "      <th>3</th>\n",
       "      <td>9</td>\n",
       "      <td>17764</td>\n",
       "    </tr>\n",
       "    <tr>\n",
       "      <th>4</th>\n",
       "      <td>10</td>\n",
       "      <td>18545</td>\n",
       "    </tr>\n",
       "    <tr>\n",
       "      <th>5</th>\n",
       "      <td>11</td>\n",
       "      <td>9766</td>\n",
       "    </tr>\n",
       "    <tr>\n",
       "      <th>6</th>\n",
       "      <td>12</td>\n",
       "      <td>8708</td>\n",
       "    </tr>\n",
       "    <tr>\n",
       "      <th>7</th>\n",
       "      <td>13</td>\n",
       "      <td>8714</td>\n",
       "    </tr>\n",
       "    <tr>\n",
       "      <th>8</th>\n",
       "      <td>14</td>\n",
       "      <td>8933</td>\n",
       "    </tr>\n",
       "    <tr>\n",
       "      <th>9</th>\n",
       "      <td>15</td>\n",
       "      <td>8979</td>\n",
       "    </tr>\n",
       "    <tr>\n",
       "      <th>10</th>\n",
       "      <td>16</td>\n",
       "      <td>9093</td>\n",
       "    </tr>\n",
       "    <tr>\n",
       "      <th>11</th>\n",
       "      <td>17</td>\n",
       "      <td>8745</td>\n",
       "    </tr>\n",
       "    <tr>\n",
       "      <th>12</th>\n",
       "      <td>18</td>\n",
       "      <td>7498</td>\n",
       "    </tr>\n",
       "    <tr>\n",
       "      <th>13</th>\n",
       "      <td>19</td>\n",
       "      <td>6092</td>\n",
       "    </tr>\n",
       "    <tr>\n",
       "      <th>14</th>\n",
       "      <td>20</td>\n",
       "      <td>603</td>\n",
       "    </tr>\n",
       "  </tbody>\n",
       "</table>\n",
       "</div>"
      ],
      "text/plain": [
       "    hour     id\n",
       "0      6   4594\n",
       "1      7  13428\n",
       "2      8  17654\n",
       "3      9  17764\n",
       "4     10  18545\n",
       "5     11   9766\n",
       "6     12   8708\n",
       "7     13   8714\n",
       "8     14   8933\n",
       "9     15   8979\n",
       "10    16   9093\n",
       "11    17   8745\n",
       "12    18   7498\n",
       "13    19   6092\n",
       "14    20    603"
      ]
     },
     "execution_count": 216,
     "metadata": {},
     "output_type": "execute_result"
    }
   ],
   "source": [
    "order_per_hour=coffee_data.groupby('hour')['id'].count().reset_index()\n",
    "order_per_hour"
   ]
  },
  {
   "cell_type": "code",
   "execution_count": 218,
   "id": "f666d839-26f7-453d-b1fb-1956afca24a8",
   "metadata": {},
   "outputs": [],
   "source": [
    "# renaming the columns\n",
    "order_per_hour.rename(columns={'id':\"count_of_orders\"},inplace=True)"
   ]
  },
  {
   "cell_type": "code",
   "execution_count": 224,
   "id": "f2531b3d-2118-484b-8bea-7edd254544a8",
   "metadata": {},
   "outputs": [
    {
     "data": {
      "image/png": "[encoded data removed]",
      "text/plain": [
       "<Figure size 1000x800 with 1 Axes>"
      ]
     },
     "metadata": {},
     "output_type": "display_data"
    }
   ],
   "source": [
    "plt.figure(figsize=(10,8))\n",
    "sns.lineplot(data=order_per_hour,\n",
    "           x='hour',\n",
    "           y='count_of_orders',\n",
    "            marker='o')\n",
    "plt.title('Peak Hour',fontsize=20)\n",
    "plt.xlabel('Hour')\n",
    "plt.ylabel('Count of Orders')\n",
    "plt.show()"
   ]
  },
  {
   "cell_type": "markdown",
   "id": "c214c8e1-693b-4472-a7a7-d859e0f2e2df",
   "metadata": {},
   "source": [
    "### 0.11 Peak Day"
   ]
  },
  {
   "cell_type": "code",
   "execution_count": 229,
   "id": "abb86aad-94be-4424-b086-79092b393d91",
   "metadata": {},
   "outputs": [
    {
     "data": {
      "image/png": "[encoded data removed]",
      "text/plain": [
       "<Figure size 1000x800 with 1 Axes>"
      ]
     },
     "metadata": {},
     "output_type": "display_data"
    }
   ],
   "source": [
    "plt.figure(figsize=(10,8))\n",
    "weekdays_order=['Sunday','Monday','Tuesday','Wednesday','Thursday','Friday','Saturday']\n",
    "ax=sns.countplot(\n",
    "                data=coffee_data,\n",
    "                x='weekday_name',\n",
    "                hue='weekday_name',\n",
    "                order=weekdays_order)\n",
    "# counting values inside the bars\n",
    "for p in ax.patches:\n",
    "    ax.annotate(f'{p.get_height()}', \n",
    "                (p.get_x() + p.get_width() / 2., p.get_height()),   # x and y position of the text\n",
    "                ha = 'center', va = 'center', \n",
    "                xytext = (0, 7), textcoords='offset points')  \n",
    "plt.xlabel('weekday')\n",
    "plt.ylabel('Count od orders')\n",
    "plt.title('Peak Day',fontsize=20)\n",
    "plt.show()\n",
    "\n",
    "\n"
   ]
  },
  {
   "cell_type": "markdown",
   "id": "e1d42611-ab27-477d-a26b-7c165d06f0e7",
   "metadata": {},
   "source": [
    "### 0.12 Distribution of orders across different cofffee types"
   ]
  },
  {
   "cell_type": "code",
   "execution_count": 234,
   "id": "1aca0ece-6084-4714-a1ae-fd4dd1c67c6c",
   "metadata": {},
   "outputs": [
    {
     "data": {
      "text/html": [
       "<div>\n",
       "<style scoped>\n",
       "    .dataframe tbody tr th:only-of-type {\n",
       "        vertical-align: middle;\n",
       "    }\n",
       "\n",
       "    .dataframe tbody tr th {\n",
       "        vertical-align: top;\n",
       "    }\n",
       "\n",
       "    .dataframe thead th {\n",
       "        text-align: right;\n",
       "    }\n",
       "</style>\n",
       "<table border=\"1\" class=\"dataframe\">\n",
       "  <thead>\n",
       "    <tr style=\"text-align: right;\">\n",
       "      <th></th>\n",
       "      <th>product</th>\n",
       "    </tr>\n",
       "  </thead>\n",
       "  <tbody>\n",
       "    <tr>\n",
       "      <th>0</th>\n",
       "      <td>Gourmet brewed coffee</td>\n",
       "    </tr>\n",
       "    <tr>\n",
       "      <th>3</th>\n",
       "      <td>Drip coffee</td>\n",
       "    </tr>\n",
       "    <tr>\n",
       "      <th>6</th>\n",
       "      <td>Drip coffee</td>\n",
       "    </tr>\n",
       "    <tr>\n",
       "      <th>7</th>\n",
       "      <td>Gourmet brewed coffee</td>\n",
       "    </tr>\n",
       "    <tr>\n",
       "      <th>8</th>\n",
       "      <td>Barista Espresso</td>\n",
       "    </tr>\n",
       "    <tr>\n",
       "      <th>...</th>\n",
       "      <td>...</td>\n",
       "    </tr>\n",
       "    <tr>\n",
       "      <th>149103</th>\n",
       "      <td>Organic brewed coffee</td>\n",
       "    </tr>\n",
       "    <tr>\n",
       "      <th>149104</th>\n",
       "      <td>Premium brewed coffee</td>\n",
       "    </tr>\n",
       "    <tr>\n",
       "      <th>149105</th>\n",
       "      <td>Drip coffee</td>\n",
       "    </tr>\n",
       "    <tr>\n",
       "      <th>149106</th>\n",
       "      <td>Gourmet brewed coffee</td>\n",
       "    </tr>\n",
       "    <tr>\n",
       "      <th>149114</th>\n",
       "      <td>Barista Espresso</td>\n",
       "    </tr>\n",
       "  </tbody>\n",
       "</table>\n",
       "<p>58416 rows × 1 columns</p>\n",
       "</div>"
      ],
      "text/plain": [
       "                      product\n",
       "0       Gourmet brewed coffee\n",
       "3                 Drip coffee\n",
       "6                 Drip coffee\n",
       "7       Gourmet brewed coffee\n",
       "8            Barista Espresso\n",
       "...                       ...\n",
       "149103  Organic brewed coffee\n",
       "149104  Premium brewed coffee\n",
       "149105            Drip coffee\n",
       "149106  Gourmet brewed coffee\n",
       "149114       Barista Espresso\n",
       "\n",
       "[58416 rows x 1 columns]"
      ]
     },
     "execution_count": 234,
     "metadata": {},
     "output_type": "execute_result"
    }
   ],
   "source": [
    "coffee_type = coffee_data[coffee_data['category'] == 'Coffee'][['product']]\n",
    "coffee_type"
   ]
  },
  {
   "cell_type": "code",
   "execution_count": 238,
   "id": "242748f6-b283-4643-be7e-64bac70f9dab",
   "metadata": {},
   "outputs": [
    {
     "data": {
      "text/html": [
       "<div>\n",
       "<style scoped>\n",
       "    .dataframe tbody tr th:only-of-type {\n",
       "        vertical-align: middle;\n",
       "    }\n",
       "\n",
       "    .dataframe tbody tr th {\n",
       "        vertical-align: top;\n",
       "    }\n",
       "\n",
       "    .dataframe thead th {\n",
       "        text-align: right;\n",
       "    }\n",
       "</style>\n",
       "<table border=\"1\" class=\"dataframe\">\n",
       "  <thead>\n",
       "    <tr style=\"text-align: right;\">\n",
       "      <th></th>\n",
       "      <th>product</th>\n",
       "      <th>count</th>\n",
       "    </tr>\n",
       "  </thead>\n",
       "  <tbody>\n",
       "    <tr>\n",
       "      <th>0</th>\n",
       "      <td>Gourmet brewed coffee</td>\n",
       "      <td>16912</td>\n",
       "    </tr>\n",
       "    <tr>\n",
       "      <th>1</th>\n",
       "      <td>Barista Espresso</td>\n",
       "      <td>16403</td>\n",
       "    </tr>\n",
       "    <tr>\n",
       "      <th>2</th>\n",
       "      <td>Organic brewed coffee</td>\n",
       "      <td>8489</td>\n",
       "    </tr>\n",
       "    <tr>\n",
       "      <th>3</th>\n",
       "      <td>Drip coffee</td>\n",
       "      <td>8477</td>\n",
       "    </tr>\n",
       "    <tr>\n",
       "      <th>4</th>\n",
       "      <td>Premium brewed coffee</td>\n",
       "      <td>8135</td>\n",
       "    </tr>\n",
       "  </tbody>\n",
       "</table>\n",
       "</div>"
      ],
      "text/plain": [
       "                 product  count\n",
       "0  Gourmet brewed coffee  16912\n",
       "1       Barista Espresso  16403\n",
       "2  Organic brewed coffee   8489\n",
       "3            Drip coffee   8477\n",
       "4  Premium brewed coffee   8135"
      ]
     },
     "execution_count": 238,
     "metadata": {},
     "output_type": "execute_result"
    }
   ],
   "source": [
    "coffee_type_count=coffee_type['product'].value_counts().reset_index()\n",
    "coffee_type_count"
   ]
  },
  {
   "cell_type": "code",
   "execution_count": 242,
   "id": "0de0c410-15f8-424d-90ab-7d3aca55923e",
   "metadata": {},
   "outputs": [
    {
     "data": {
      "image/png": "[encoded data removed]",
      "text/plain": [
       "<Figure size 1000x800 with 1 Axes>"
      ]
     },
     "metadata": {},
     "output_type": "display_data"
    }
   ],
   "source": [
    "plt.figure(figsize=(10,8))\n",
    "sns.barplot(data=coffee_type_count,\n",
    "           x='count',\n",
    "           y='product',\n",
    "           hue='product')\n",
    "plt.title('Order Distribution by Coffee Type',fontsize=20)\n",
    "plt.xlabel('Count of coffee type')\n",
    "plt.ylabel('Coffee Type')\n",
    "plt.show()"
   ]
  },
  {
   "cell_type": "code",
   "execution_count": null,
   "id": "773e9f33-0705-4a11-b615-8259bb00a94d",
   "metadata": {},
   "outputs": [],
   "source": []
  }
 ],
 "metadata": {
  "kernelspec": {
   "display_name": "Python 3 (ipykernel)",
   "language": "python",
   "name": "python3"
  },
  "language_info": {
   "codemirror_mode": {
    "name": "ipython",
    "version": 3
   },
   "file_extension": ".py",
   "mimetype": "text/x-python",
   "name": "python",
   "nbconvert_exporter": "python",
   "pygments_lexer": "ipython3",
   "version": "3.12.7"
  }
 },
 "nbformat": 4,
 "nbformat_minor": 5
}
